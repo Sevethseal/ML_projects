{
  "nbformat": 4,
  "nbformat_minor": 0,
  "metadata": {
    "colab": {
      "provenance": [],
      "authorship_tag": "ABX9TyNqjAB6cdxIDVWo9XCZIXda",
      "include_colab_link": true
    },
    "kernelspec": {
      "name": "python3",
      "display_name": "Python 3"
    },
    "language_info": {
      "name": "python"
    }
  },
  "cells": [
    {
      "cell_type": "markdown",
      "metadata": {
        "id": "view-in-github",
        "colab_type": "text"
      },
      "source": [
        "<a href=\"https://colab.research.google.com/github/Sevethseal/ML_projects/blob/main/Loan_approval_prediction.ipynb\" target=\"_parent\"><img src=\"https://colab.research.google.com/assets/colab-badge.svg\" alt=\"Open In Colab\"/></a>"
      ]
    },
    {
      "cell_type": "code",
      "execution_count": 1,
      "metadata": {
        "id": "jDLsSjXKSA6l"
      },
      "outputs": [],
      "source": [
        "import pandas as pd\n",
        "import numpy as np"
      ]
    },
    {
      "cell_type": "code",
      "source": [
        "import kagglehub\n",
        "\n",
        "# Download latest version\n",
        "path = kagglehub.dataset_download(\"altruistdelhite04/loan-prediction-problem-dataset\")\n",
        "\n",
        "print(\"Path to dataset files:\", path)"
      ],
      "metadata": {
        "colab": {
          "base_uri": "https://localhost:8080/"
        },
        "id": "irmzdysHp9xW",
        "outputId": "cdc21451-b647-4db7-b450-9c693476e26a"
      },
      "execution_count": 2,
      "outputs": [
        {
          "output_type": "stream",
          "name": "stdout",
          "text": [
            "Downloading from https://www.kaggle.com/api/v1/datasets/download/altruistdelhite04/loan-prediction-problem-dataset?dataset_version_number=1...\n"
          ]
        },
        {
          "output_type": "stream",
          "name": "stderr",
          "text": [
            "100%|██████████| 12.6k/12.6k [00:00<00:00, 7.90MB/s]"
          ]
        },
        {
          "output_type": "stream",
          "name": "stdout",
          "text": [
            "Extracting files...\n",
            "Path to dataset files: /root/.cache/kagglehub/datasets/altruistdelhite04/loan-prediction-problem-dataset/versions/1\n"
          ]
        },
        {
          "output_type": "stream",
          "name": "stderr",
          "text": [
            "\n"
          ]
        }
      ]
    },
    {
      "cell_type": "code",
      "source": [
        "import os\n",
        "print(\"Files in dataset:\")\n",
        "for file in os.listdir(path):\n",
        "    print(f\"  {file}\")"
      ],
      "metadata": {
        "colab": {
          "base_uri": "https://localhost:8080/"
        },
        "id": "mLbB1f16ss5I",
        "outputId": "1a0e9be8-1528-45f0-8521-b57184b46843"
      },
      "execution_count": 3,
      "outputs": [
        {
          "output_type": "stream",
          "name": "stdout",
          "text": [
            "Files in dataset:\n",
            "  test_Y3wMUE5_7gLdaTN.csv\n",
            "  train_u6lujuX_CVtuZ9i.csv\n"
          ]
        }
      ]
    },
    {
      "cell_type": "code",
      "source": [
        "train_df = pd.read_csv(os.path.join(path, 'train_u6lujuX_CVtuZ9i.csv'))\n",
        "test_df = pd.read_csv(os.path.join(path, 'test_Y3wMUE5_7gLdaTN.csv'))\n",
        "\n",
        "# Display basic information about the datasets\n",
        "print(\"\\nTrain dataset shape:\", train_df.shape)\n",
        "print(\"Test dataset shape:\", test_df.shape)\n",
        "\n",
        "print(\"\\nTrain dataset columns:\")\n",
        "print(train_df.columns.tolist())\n",
        "\n",
        "print(\"\\nFirst few rows of train dataset:\")\n",
        "print(train_df.head())\n",
        "\n",
        "print(\"\\nDataset info:\")\n",
        "print(train_df.info())"
      ],
      "metadata": {
        "colab": {
          "base_uri": "https://localhost:8080/"
        },
        "id": "FLDZkP05uhYp",
        "outputId": "d240def8-9a42-4aaf-aeb4-0b872cf440e0"
      },
      "execution_count": 4,
      "outputs": [
        {
          "output_type": "stream",
          "name": "stdout",
          "text": [
            "\n",
            "Train dataset shape: (614, 13)\n",
            "Test dataset shape: (367, 12)\n",
            "\n",
            "Train dataset columns:\n",
            "['Loan_ID', 'Gender', 'Married', 'Dependents', 'Education', 'Self_Employed', 'ApplicantIncome', 'CoapplicantIncome', 'LoanAmount', 'Loan_Amount_Term', 'Credit_History', 'Property_Area', 'Loan_Status']\n",
            "\n",
            "First few rows of train dataset:\n",
            "    Loan_ID Gender Married Dependents     Education Self_Employed  \\\n",
            "0  LP001002   Male      No          0      Graduate            No   \n",
            "1  LP001003   Male     Yes          1      Graduate            No   \n",
            "2  LP001005   Male     Yes          0      Graduate           Yes   \n",
            "3  LP001006   Male     Yes          0  Not Graduate            No   \n",
            "4  LP001008   Male      No          0      Graduate            No   \n",
            "\n",
            "   ApplicantIncome  CoapplicantIncome  LoanAmount  Loan_Amount_Term  \\\n",
            "0             5849                0.0         NaN             360.0   \n",
            "1             4583             1508.0       128.0             360.0   \n",
            "2             3000                0.0        66.0             360.0   \n",
            "3             2583             2358.0       120.0             360.0   \n",
            "4             6000                0.0       141.0             360.0   \n",
            "\n",
            "   Credit_History Property_Area Loan_Status  \n",
            "0             1.0         Urban           Y  \n",
            "1             1.0         Rural           N  \n",
            "2             1.0         Urban           Y  \n",
            "3             1.0         Urban           Y  \n",
            "4             1.0         Urban           Y  \n",
            "\n",
            "Dataset info:\n",
            "<class 'pandas.core.frame.DataFrame'>\n",
            "RangeIndex: 614 entries, 0 to 613\n",
            "Data columns (total 13 columns):\n",
            " #   Column             Non-Null Count  Dtype  \n",
            "---  ------             --------------  -----  \n",
            " 0   Loan_ID            614 non-null    object \n",
            " 1   Gender             601 non-null    object \n",
            " 2   Married            611 non-null    object \n",
            " 3   Dependents         599 non-null    object \n",
            " 4   Education          614 non-null    object \n",
            " 5   Self_Employed      582 non-null    object \n",
            " 6   ApplicantIncome    614 non-null    int64  \n",
            " 7   CoapplicantIncome  614 non-null    float64\n",
            " 8   LoanAmount         592 non-null    float64\n",
            " 9   Loan_Amount_Term   600 non-null    float64\n",
            " 10  Credit_History     564 non-null    float64\n",
            " 11  Property_Area      614 non-null    object \n",
            " 12  Loan_Status        614 non-null    object \n",
            "dtypes: float64(4), int64(1), object(8)\n",
            "memory usage: 62.5+ KB\n",
            "None\n"
          ]
        }
      ]
    },
    {
      "cell_type": "code",
      "source": [
        "print((train_df.isnull().sum() / len(train_df)) * 100)\n"
      ],
      "metadata": {
        "id": "oIjM_Dq4u3zt",
        "colab": {
          "base_uri": "https://localhost:8080/"
        },
        "outputId": "b5a093cf-28ff-4696-837d-3e0688129117"
      },
      "execution_count": 8,
      "outputs": [
        {
          "output_type": "stream",
          "name": "stdout",
          "text": [
            "Loan_ID              0.000000\n",
            "Gender               2.117264\n",
            "Married              0.488599\n",
            "Dependents           2.442997\n",
            "Education            0.000000\n",
            "Self_Employed        5.211726\n",
            "ApplicantIncome      0.000000\n",
            "CoapplicantIncome    0.000000\n",
            "LoanAmount           3.583062\n",
            "Loan_Amount_Term     2.280130\n",
            "Credit_History       8.143322\n",
            "Property_Area        0.000000\n",
            "Loan_Status          0.000000\n",
            "dtype: float64\n"
          ]
        }
      ]
    },
    {
      "cell_type": "code",
      "source": [
        "import matplotlib.pyplot as plt\n",
        "\n",
        "missing_percentage=(train_df.isnull().sum() / len(train_df)) * 100\n",
        "columns_with_missing_percentage=missing_percentage[missing_percentage>0]\n",
        "print(columns_with_missing_percentage)\n",
        "\n",
        "plt.figure(figsize=(24, 6))\n",
        "\n",
        "plt.subplot(1,3,1)\n",
        "plt.bar( columns_with_missing_percentage.index,columns_with_missing_percentage.values,color=\"red\",alpha=0.7)\n",
        "plt.title('Missing Values (Bar Chart)')\n",
        "plt.ylabel('Missing %')\n",
        "plt.xticks(rotation=45)"
      ],
      "metadata": {
        "colab": {
          "base_uri": "https://localhost:8080/",
          "height": 914
        },
        "id": "TvtDhxav0M5R",
        "outputId": "64fce0f7-2ae0-4c70-84a2-1e1c1144d3c3"
      },
      "execution_count": 24,
      "outputs": [
        {
          "output_type": "stream",
          "name": "stdout",
          "text": [
            "Gender              2.117264\n",
            "Married             0.488599\n",
            "Dependents          2.442997\n",
            "Self_Employed       5.211726\n",
            "LoanAmount          3.583062\n",
            "Loan_Amount_Term    2.280130\n",
            "Credit_History      8.143322\n",
            "dtype: float64\n"
          ]
        },
        {
          "output_type": "execute_result",
          "data": {
            "text/plain": [
              "([0, 1, 2, 3, 4, 5, 6],\n",
              " [Text(0, 0, 'Gender'),\n",
              "  Text(1, 0, 'Married'),\n",
              "  Text(2, 0, 'Dependents'),\n",
              "  Text(3, 0, 'Self_Employed'),\n",
              "  Text(4, 0, 'LoanAmount'),\n",
              "  Text(5, 0, 'Loan_Amount_Term'),\n",
              "  Text(6, 0, 'Credit_History')])"
            ]
          },
          "metadata": {},
          "execution_count": 24
        },
        {
          "output_type": "display_data",
          "data": {
            "text/plain": [
              "<Figure size 2400x600 with 1 Axes>"
            ],
            "image/png": "[encoded data removed]"
          },
          "metadata": {}
        }
      ]
    },
    {
      "cell_type": "code",
      "source": [
        "plt.subplot(1, 3, 3)\n",
        "plt.hist(columns_with_missing_percentage.values, bins=5, color='green', alpha=0.7)\n",
        "plt.title('Distribution of Missing %')\n",
        "plt.xlabel('Missing %')\n"
      ],
      "metadata": {
        "colab": {
          "base_uri": "https://localhost:8080/",
          "height": 489
        },
        "id": "LUhNEeca-ucC",
        "outputId": "4b474cfa-a2a0-4734-ef70-b2d2caa2cfa4"
      },
      "execution_count": 25,
      "outputs": [
        {
          "output_type": "execute_result",
          "data": {
            "text/plain": [
              "Text(0.5, 0, 'Missing %')"
            ]
          },
          "metadata": {},
          "execution_count": 25
        },
        {
          "output_type": "display_data",
          "data": {
            "text/plain": [
              "<Figure size 640x480 with 1 Axes>"
            ],
            "image/png": "[encoded data removed]"
          },
          "metadata": {}
        }
      ]
    },
    {
      "cell_type": "code",
      "source": [
        "plt.figure(figsize=(15, 6))  # wider x-axis\n",
        "\n",
        "plt.plot(columns_with_missing_percentage.values, marker='o', color='blue')\n",
        "plt.title('Missing Values (Line Graph)')\n",
        "plt.ylabel('Missing %')\n",
        "plt.xticks(\n",
        "    range(len(columns_with_missing_percentage)),\n",
        "    columns_with_missing_percentage.index,\n",
        "    rotation=45\n",
        ")\n",
        "\n",
        "plt.tight_layout()\n",
        "plt.show()\n"
      ],
      "metadata": {
        "colab": {
          "base_uri": "https://localhost:8080/",
          "height": 577
        },
        "id": "UFUBrJlZ_Byn",
        "outputId": "23240ed0-c9f4-41de-9bab-30212be5c77a"
      },
      "execution_count": 33,
      "outputs": [
        {
          "output_type": "display_data",
          "data": {
            "text/plain": [
              "<Figure size 1500x600 with 1 Axes>"
            ],
            "image/png": "[encoded data removed]"
          },
          "metadata": {}
        }
      ]
    },
    {
      "cell_type": "code",
      "source": [
        "numerical_cols= train_df.select_dtypes(include=['number']).columns.tolist()\n",
        "print(\"Numerical\",numerical_cols)\n",
        "non_numerical_cols= train_df.select_dtypes(exclude=['number']).columns.tolist()\n",
        "print(\"Non-Numerical\",non_numerical_cols)"
      ],
      "metadata": {
        "colab": {
          "base_uri": "https://localhost:8080/"
        },
        "id": "5YMBvtQSAvyh",
        "outputId": "39390c9a-739c-43af-c5a8-e17763a7b9c2"
      },
      "execution_count": 37,
      "outputs": [
        {
          "output_type": "stream",
          "name": "stdout",
          "text": [
            "Numerical ['ApplicantIncome', 'CoapplicantIncome', 'LoanAmount', 'Loan_Amount_Term', 'Credit_History']\n",
            "Non-Numerical ['Loan_ID', 'Gender', 'Married', 'Dependents', 'Education', 'Self_Employed', 'Property_Area', 'Loan_Status']\n"
          ]
        }
      ]
    },
    {
      "cell_type": "code",
      "source": [
        "# Filter missing-percentage Series for only non-numerical columns\n",
        "non_num_missing = columns_with_missing_percentage[columns_with_missing_percentage.index.isin(non_numerical_cols)]\n",
        "\n",
        "print(non_num_missing)\n"
      ],
      "metadata": {
        "colab": {
          "base_uri": "https://localhost:8080/"
        },
        "id": "KY6WUBJVHt_C",
        "outputId": "fca302cc-4a16-4850-bde2-4a3f9b962f94"
      },
      "execution_count": 38,
      "outputs": [
        {
          "output_type": "stream",
          "name": "stdout",
          "text": [
            "Gender           2.117264\n",
            "Married          0.488599\n",
            "Dependents       2.442997\n",
            "Self_Employed    5.211726\n",
            "dtype: float64\n"
          ]
        }
      ]
    },
    {
      "cell_type": "code",
      "source": [
        "\n",
        "\n",
        "for col in non_num_missing.index:  # columns that are non-numeric and have NaNs\n",
        "    s = train_df[col]\n",
        "    mode_vals = s.mode(dropna=True)\n",
        "\n",
        "    if not mode_vals.empty:\n",
        "        fill_val = mode_vals.iloc[0]\n",
        "        # If it's a categorical column, make sure the fill value is an allowed category\n",
        "        if pd.api.types.is_categorical_dtype(s):\n",
        "            if fill_val not in s.cat.categories:\n",
        "                s = s.cat.add_categories([fill_val])\n",
        "        train_df[col] = s.fillna(fill_val)\n",
        "    else:\n",
        "        # Column is all NaN (no mode). Use a sentinel value.\n",
        "        sentinel = \"Unknown\"\n",
        "        if pd.api.types.is_categorical_dtype(s):\n",
        "            s = s.cat.add_categories([sentinel])\n",
        "        train_df[col] = s.fillna(sentinel)\n"
      ],
      "metadata": {
        "colab": {
          "base_uri": "https://localhost:8080/"
        },
        "id": "CVnnRM07K27A",
        "outputId": "052a5fef-4ab4-407d-a16c-73f30ac58b37"
      },
      "execution_count": 39,
      "outputs": [
        {
          "output_type": "stream",
          "name": "stderr",
          "text": [
            "/tmp/ipython-input-4144708474.py:8: DeprecationWarning: is_categorical_dtype is deprecated and will be removed in a future version. Use isinstance(dtype, pd.CategoricalDtype) instead\n",
            "  if pd.api.types.is_categorical_dtype(s):\n"
          ]
        }
      ]
    },
    {
      "cell_type": "code",
      "source": [
        "print((train_df.isnull().sum() / len(train_df)) * 100)"
      ],
      "metadata": {
        "colab": {
          "base_uri": "https://localhost:8080/"
        },
        "id": "5ok87jz6OcA_",
        "outputId": "bae2559f-bccc-42e7-ec84-d5f2f214f2c7"
      },
      "execution_count": 40,
      "outputs": [
        {
          "output_type": "stream",
          "name": "stdout",
          "text": [
            "Loan_ID              0.000000\n",
            "Gender               0.000000\n",
            "Married              0.000000\n",
            "Dependents           0.000000\n",
            "Education            0.000000\n",
            "Self_Employed        0.000000\n",
            "ApplicantIncome      0.000000\n",
            "CoapplicantIncome    0.000000\n",
            "LoanAmount           3.583062\n",
            "Loan_Amount_Term     2.280130\n",
            "Credit_History       8.143322\n",
            "Property_Area        0.000000\n",
            "Loan_Status          0.000000\n",
            "dtype: float64\n"
          ]
        }
      ]
    },
    {
      "cell_type": "code",
      "source": [
        "num_missing = columns_with_missing_percentage[columns_with_missing_percentage.index.isin(numerical_cols)]\n",
        "\n",
        "print(num_missing)"
      ],
      "metadata": {
        "colab": {
          "base_uri": "https://localhost:8080/"
        },
        "id": "DG7DxklLOp0x",
        "outputId": "5a3949bd-8dd4-4bdd-bae8-4eb4b5f4e801"
      },
      "execution_count": 41,
      "outputs": [
        {
          "output_type": "stream",
          "name": "stdout",
          "text": [
            "LoanAmount          3.583062\n",
            "Loan_Amount_Term    2.280130\n",
            "Credit_History      8.143322\n",
            "dtype: float64\n"
          ]
        }
      ]
    },
    {
      "cell_type": "code",
      "source": [
        "for col in num_missing.index:   # loop through numerical columns with NaNs\n",
        "    train_df[col] = train_df[col].fillna(train_df[col].median())\n"
      ],
      "metadata": {
        "id": "-O2oRYalSZjQ"
      },
      "execution_count": 44,
      "outputs": []
    },
    {
      "cell_type": "code",
      "source": [
        "print((train_df.isnull().sum() / len(train_df)) * 100)"
      ],
      "metadata": {
        "colab": {
          "base_uri": "https://localhost:8080/"
        },
        "id": "2fq6JakFSm6B",
        "outputId": "beb0771a-69df-4e44-8779-9351e6646fb5"
      },
      "execution_count": 45,
      "outputs": [
        {
          "output_type": "stream",
          "name": "stdout",
          "text": [
            "Loan_ID              0.0\n",
            "Gender               0.0\n",
            "Married              0.0\n",
            "Dependents           0.0\n",
            "Education            0.0\n",
            "Self_Employed        0.0\n",
            "ApplicantIncome      0.0\n",
            "CoapplicantIncome    0.0\n",
            "LoanAmount           0.0\n",
            "Loan_Amount_Term     0.0\n",
            "Credit_History       0.0\n",
            "Property_Area        0.0\n",
            "Loan_Status          0.0\n",
            "dtype: float64\n"
          ]
        }
      ]
    },
    {
      "cell_type": "code",
      "source": [
        "from sklearn.preprocessing import LabelEncoder\n",
        "train_df = train_df.drop(columns=['Loan_ID'])\n",
        "\n",
        "target_col = 'Loan_Status'\n",
        "\n",
        "# One-hot encode all other categorical predictors\n",
        "categorical_cols = ['Gender', 'Married', 'Dependents', 'Education',\n",
        "                    'Self_Employed', 'Property_Area']\n",
        "\n",
        "train_df = pd.get_dummies(train_df, columns=categorical_cols, drop_first=True)\n",
        "\n",
        "# 3. Label encode target variable (Loan_Status)\n",
        "le = LabelEncoder()\n",
        "train_df[target_col] = le.fit_transform(train_df[target_col])\n",
        "\n",
        "print(train_df.head())\n"
      ],
      "metadata": {
        "colab": {
          "base_uri": "https://localhost:8080/"
        },
        "id": "ECD5T_1tSwCR",
        "outputId": "ebc18825-502a-4010-c1a2-9100b3d97ed4"
      },
      "execution_count": 46,
      "outputs": [
        {
          "output_type": "stream",
          "name": "stdout",
          "text": [
            "   ApplicantIncome  CoapplicantIncome  LoanAmount  Loan_Amount_Term  \\\n",
            "0             5849                0.0       128.0             360.0   \n",
            "1             4583             1508.0       128.0             360.0   \n",
            "2             3000                0.0        66.0             360.0   \n",
            "3             2583             2358.0       120.0             360.0   \n",
            "4             6000                0.0       141.0             360.0   \n",
            "\n",
            "   Credit_History  Loan_Status  Gender_Male  Married_Yes  Dependents_1  \\\n",
            "0             1.0            1         True        False         False   \n",
            "1             1.0            0         True         True          True   \n",
            "2             1.0            1         True         True         False   \n",
            "3             1.0            1         True         True         False   \n",
            "4             1.0            1         True        False         False   \n",
            "\n",
            "   Dependents_2  Dependents_3+  Education_Not Graduate  Self_Employed_Yes  \\\n",
            "0         False          False                   False              False   \n",
            "1         False          False                   False              False   \n",
            "2         False          False                   False               True   \n",
            "3         False          False                    True              False   \n",
            "4         False          False                   False              False   \n",
            "\n",
            "   Property_Area_Semiurban  Property_Area_Urban  \n",
            "0                    False                 True  \n",
            "1                    False                False  \n",
            "2                    False                 True  \n",
            "3                    False                 True  \n",
            "4                    False                 True  \n"
          ]
        }
      ]
    },
    {
      "cell_type": "code",
      "source": [
        "import numpy as np\n",
        "import pandas as pd\n",
        "\n",
        "# 1) Total household income\n",
        "train_df['TotalIncome'] = train_df['ApplicantIncome'] + train_df['CoapplicantIncome']\n",
        "\n",
        "# 2) Loan to Income ratio (higher = riskier). Guard against zero/NaN.\n",
        "train_df['LoanToIncome'] = np.where(\n",
        "    train_df['TotalIncome'] > 0,\n",
        "    train_df['LoanAmount'] / train_df['TotalIncome'],\n",
        "    np.nan\n",
        ")\n",
        "\n",
        "# 3) EMI approximation (monthly repayment burden).\n",
        "#    Uses LoanAmount / Loan_Amount_Term; guard against zero/NaN term.\n",
        "train_df['EMI'] = np.where(\n",
        "    train_df['Loan_Amount_Term'] > 0,\n",
        "    train_df['LoanAmount'] / train_df['Loan_Amount_Term'],\n",
        "    np.nan\n",
        ")\n",
        "\n",
        "# 4) Log transform of income to reduce skew (log1p handles zeros safely).\n",
        "train_df['Log_TotalIncome'] = np.log1p(train_df['TotalIncome'])\n",
        "\n",
        "# (Optional) If you want dependents-based features too, uncomment below:\n",
        "\n",
        "# Derive numeric dependents count from one-hot columns if present\n",
        "dep_cols = [c for c in ['Dependents_1','Dependents_2','Dependents_3+'] if c in train_df.columns]\n",
        "if dep_cols:\n",
        "    weights = [1 if c.endswith('_1') else 2 if c.endswith('_2') else 3 for c in dep_cols]\n",
        "    train_df['DependentsCount'] = train_df[dep_cols].astype(int).dot(weights)\n",
        "    # Income per dependent (add 1 to avoid division by zero when no dependents)\n",
        "    train_df['IncomePerDependent'] = train_df['TotalIncome'] / (train_df['DependentsCount'] + 1)\n",
        "\n",
        "print(train_df[['TotalIncome','LoanToIncome','EMI','Log_TotalIncome']].head())\n"
      ],
      "metadata": {
        "colab": {
          "base_uri": "https://localhost:8080/"
        },
        "id": "QmVfq9Amk4aH",
        "outputId": "6239c436-4a9b-40d3-891c-7a10af306886"
      },
      "execution_count": 47,
      "outputs": [
        {
          "output_type": "stream",
          "name": "stdout",
          "text": [
            "   TotalIncome  LoanToIncome       EMI  Log_TotalIncome\n",
            "0       5849.0      0.021884  0.355556         8.674197\n",
            "1       6091.0      0.021015  0.355556         8.714732\n",
            "2       3000.0      0.022000  0.183333         8.006701\n",
            "3       4941.0      0.024287  0.333333         8.505525\n",
            "4       6000.0      0.023500  0.391667         8.699681\n"
          ]
        }
      ]
    },
    {
      "cell_type": "code",
      "source": [
        "from sklearn.model_selection import StratifiedKFold, cross_validate\n",
        "from sklearn.pipeline import Pipeline\n",
        "from sklearn.compose import ColumnTransformer\n",
        "from sklearn.preprocessing import StandardScaler\n",
        "from sklearn.impute import SimpleImputer\n",
        "from sklearn.linear_model import LogisticRegression\n",
        "from sklearn.ensemble import RandomForestClassifier, HistGradientBoostingClassifier"
      ],
      "metadata": {
        "id": "BO0clycjtlSg"
      },
      "execution_count": 51,
      "outputs": []
    },
    {
      "cell_type": "code",
      "source": [
        "%pip install catboost"
      ],
      "metadata": {
        "colab": {
          "base_uri": "https://localhost:8080/"
        },
        "id": "ro89rNzmvpcj",
        "outputId": "8eef3dda-6d93-4df9-b284-a5d753fbe590"
      },
      "execution_count": 52,
      "outputs": [
        {
          "output_type": "stream",
          "name": "stdout",
          "text": [
            "Collecting catboost\n",
            "  Downloading catboost-1.2.8-cp312-cp312-manylinux2014_x86_64.whl.metadata (1.2 kB)\n",
            "Requirement already satisfied: graphviz in /usr/local/lib/python3.12/dist-packages (from catboost) (0.21)\n",
            "Requirement already satisfied: matplotlib in /usr/local/lib/python3.12/dist-packages (from catboost) (3.10.0)\n",
            "Requirement already satisfied: numpy<3.0,>=1.16.0 in /usr/local/lib/python3.12/dist-packages (from catboost) (2.0.2)\n",
            "Requirement already satisfied: pandas>=0.24 in /usr/local/lib/python3.12/dist-packages (from catboost) (2.2.2)\n",
            "Requirement already satisfied: scipy in /usr/local/lib/python3.12/dist-packages (from catboost) (1.16.1)\n",
            "Requirement already satisfied: plotly in /usr/local/lib/python3.12/dist-packages (from catboost) (5.24.1)\n",
            "Requirement already satisfied: six in /usr/local/lib/python3.12/dist-packages (from catboost) (1.17.0)\n",
            "Requirement already satisfied: python-dateutil>=2.8.2 in /usr/local/lib/python3.12/dist-packages (from pandas>=0.24->catboost) (2.9.0.post0)\n",
            "Requirement already satisfied: pytz>=2020.1 in /usr/local/lib/python3.12/dist-packages (from pandas>=0.24->catboost) (2025.2)\n",
            "Requirement already satisfied: tzdata>=2022.7 in /usr/local/lib/python3.12/dist-packages (from pandas>=0.24->catboost) (2025.2)\n",
            "Requirement already satisfied: contourpy>=1.0.1 in /usr/local/lib/python3.12/dist-packages (from matplotlib->catboost) (1.3.3)\n",
            "Requirement already satisfied: cycler>=0.10 in /usr/local/lib/python3.12/dist-packages (from matplotlib->catboost) (0.12.1)\n",
            "Requirement already satisfied: fonttools>=4.22.0 in /usr/local/lib/python3.12/dist-packages (from matplotlib->catboost) (4.59.2)\n",
            "Requirement already satisfied: kiwisolver>=1.3.1 in /usr/local/lib/python3.12/dist-packages (from matplotlib->catboost) (1.4.9)\n",
            "Requirement already satisfied: packaging>=20.0 in /usr/local/lib/python3.12/dist-packages (from matplotlib->catboost) (25.0)\n",
            "Requirement already satisfied: pillow>=8 in /usr/local/lib/python3.12/dist-packages (from matplotlib->catboost) (11.3.0)\n",
            "Requirement already satisfied: pyparsing>=2.3.1 in /usr/local/lib/python3.12/dist-packages (from matplotlib->catboost) (3.2.3)\n",
            "Requirement already satisfied: tenacity>=6.2.0 in /usr/local/lib/python3.12/dist-packages (from plotly->catboost) (8.5.0)\n",
            "Downloading catboost-1.2.8-cp312-cp312-manylinux2014_x86_64.whl (99.2 MB)\n",
            "\u001b[2K   \u001b[90m━━━━━━━━━━━━━━━━━━━━━━━━━━━━━━━━━━━━━━━━\u001b[0m \u001b[32m99.2/99.2 MB\u001b[0m \u001b[31m7.4 MB/s\u001b[0m eta \u001b[36m0:00:00\u001b[0m\n",
            "\u001b[?25hInstalling collected packages: catboost\n",
            "Successfully installed catboost-1.2.8\n"
          ]
        }
      ]
    },
    {
      "cell_type": "code",
      "source": [
        "target_col = 'Loan_Status'\n",
        "X = train_df.drop(columns=[target_col]).copy()\n",
        "y = train_df[target_col].astype(int)\n",
        "\n",
        "# Make sure any bool dummies are numeric 0/1\n",
        "bool_cols = X.select_dtypes(include=['bool']).columns\n",
        "if len(bool_cols):\n",
        "    X[bool_cols] = X[bool_cols].astype(int)\n",
        "\n",
        "num_cols = X.columns  # all columns are numeric at this point\n",
        "\n",
        "# Pipelines: LR needs scaling; tree models don't\n",
        "preprocess_lr   = ColumnTransformer([('num', Pipeline([\n",
        "    ('imp',   SimpleImputer(strategy='median')),\n",
        "    ('scale', StandardScaler())\n",
        "]), num_cols)], remainder='drop')\n",
        "\n",
        "preprocess_tree = ColumnTransformer([('num', Pipeline([\n",
        "    ('imp',   SimpleImputer(strategy='median')),\n",
        "]), num_cols)], remainder='drop')\n",
        "\n",
        "models = {\n",
        "    \"LogisticRegression\": Pipeline([\n",
        "        ('prep', preprocess_lr),\n",
        "        ('clf', LogisticRegression(max_iter=2000, class_weight='balanced', random_state=42))\n",
        "    ]),\n",
        "    \"RandomForest\": Pipeline([\n",
        "        ('prep', preprocess_tree),\n",
        "        ('clf', RandomForestClassifier(\n",
        "            n_estimators=500, max_features='sqrt', class_weight='balanced', random_state=42\n",
        "        ))\n",
        "    ]),\n",
        "    \"HistGradientBoosting\": Pipeline([\n",
        "        ('prep', preprocess_tree),\n",
        "        ('clf', HistGradientBoostingClassifier(\n",
        "            learning_rate=0.05, max_depth=None, max_iter=500, random_state=42\n",
        "        ))\n",
        "    ]),\n",
        "}\n",
        "\n",
        "# Try to add LightGBM, XGBoost, CatBoost if available\n",
        "try:\n",
        "    from lightgbm import LGBMClassifier\n",
        "    models[\"LightGBM\"] = Pipeline([\n",
        "        ('prep', preprocess_tree),\n",
        "        ('clf', LGBMClassifier(\n",
        "            n_estimators=800, learning_rate=0.05, num_leaves=31,\n",
        "            subsample=0.8, colsample_bytree=0.8, random_state=42\n",
        "        ))\n",
        "    ])\n",
        "except Exception as e:\n",
        "    print(\"LightGBM not available:\", e)\n",
        "\n",
        "try:\n",
        "    from xgboost import XGBClassifier\n",
        "    models[\"XGBoost\"] = Pipeline([\n",
        "        ('prep', preprocess_tree),\n",
        "        ('clf', XGBClassifier(\n",
        "            n_estimators=800, learning_rate=0.05, max_depth=5,\n",
        "            subsample=0.8, colsample_bytree=0.8, reg_lambda=1.0,\n",
        "            objective='binary:logistic', eval_metric='auc', random_state=42,\n",
        "            use_label_encoder=False\n",
        "        ))\n",
        "    ])\n",
        "except Exception as e:\n",
        "    print(\"XGBoost not available:\", e)\n",
        "\n",
        "try:\n",
        "    from catboost import CatBoostClassifier\n",
        "    models[\"CatBoost\"] = Pipeline([\n",
        "        ('prep', preprocess_tree),\n",
        "        ('clf', CatBoostClassifier(\n",
        "            iterations=800, learning_rate=0.05, depth=6,\n",
        "            l2_leaf_reg=3.0, random_state=42, verbose=False\n",
        "        ))\n",
        "    ])\n",
        "except Exception as e:\n",
        "    print(\"CatBoost not available:\", e)\n",
        "\n",
        "# --- Evaluate ---\n",
        "cv = StratifiedKFold(n_splits=5, shuffle=True, random_state=42)\n",
        "scoring = {\n",
        "    'accuracy': 'accuracy',\n",
        "    'roc_auc': 'roc_auc',\n",
        "    'f1': 'f1',\n",
        "    'precision': 'precision',\n",
        "    'recall': 'recall'\n",
        "}\n",
        "\n",
        "rows = []\n",
        "for name, model in models.items():\n",
        "    scores = cross_validate(model, X, y, cv=cv, scoring=scoring, n_jobs=-1, return_train_score=False)\n",
        "    rows.append({\n",
        "        'Model': name,\n",
        "        'Accuracy_mean':  np.mean(scores['test_accuracy']),\n",
        "        'Accuracy_std':   np.std(scores['test_accuracy']),\n",
        "        'AUC_mean':       np.mean(scores['test_roc_auc']),\n",
        "        'F1_mean':        np.mean(scores['test_f1']),\n",
        "        'Precision_mean': np.mean(scores['test_precision']),\n",
        "        'Recall_mean':    np.mean(scores['test_recall']),\n",
        "        'FitTime_sec':    np.mean(scores['fit_time'])\n",
        "    })\n",
        "\n",
        "results = pd.DataFrame(rows).sort_values('Accuracy_mean', ascending=False).reset_index(drop=True)\n",
        "pd.set_option('display.precision', 4)\n",
        "print(results)\n",
        "\n",
        "best_model_name = results.loc[0, 'Model']\n",
        "print(\"\\nBest by Accuracy:\", best_model_name)"
      ],
      "metadata": {
        "colab": {
          "base_uri": "https://localhost:8080/"
        },
        "id": "VrSR_K68vwrD",
        "outputId": "07f6a3c5-c009-4631-b37a-540bcec38157"
      },
      "execution_count": 53,
      "outputs": [
        {
          "output_type": "stream",
          "name": "stdout",
          "text": [
            "                  Model  Accuracy_mean  Accuracy_std  AUC_mean  F1_mean  \\\n",
            "0          RandomForest         0.7997        0.0168    0.7682   0.8661   \n",
            "1               XGBoost         0.7818        0.0187    0.7647   0.8501   \n",
            "2              CatBoost         0.7769        0.0243    0.7649   0.8482   \n",
            "3              LightGBM         0.7623        0.0319    0.7493   0.8352   \n",
            "4  HistGradientBoosting         0.7622        0.0225    0.7557   0.8353   \n",
            "5    LogisticRegression         0.7508        0.0304    0.7517   0.8222   \n",
            "\n",
            "   Precision_mean  Recall_mean  FitTime_sec  \n",
            "0          0.8008       0.9431       5.2560  \n",
            "1          0.8052       0.9004       0.6908  \n",
            "2          0.7963       0.9075       6.5554  \n",
            "3          0.7958       0.8791       0.7864  \n",
            "4          0.7960       0.8790       2.3339  \n",
            "5          0.8073       0.8389       0.0804  \n",
            "\n",
            "Best by Accuracy: RandomForest\n"
          ]
        }
      ]
    },
    {
      "cell_type": "code",
      "source": [],
      "metadata": {
        "id": "ZNAnb37EwODa"
      },
      "execution_count": null,
      "outputs": []
    }
  ]
}